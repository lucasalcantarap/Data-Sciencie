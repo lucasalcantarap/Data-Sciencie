{
  "nbformat": 4,
  "nbformat_minor": 0,
  "metadata": {
    "colab": {
      "name": "Relatorio-automatizado.ipynb",
      "provenance": [],
      "authorship_tag": "ABX9TyMKs2fOPfWhmFC/xShSia6y",
      "include_colab_link": true
    },
    "kernelspec": {
      "name": "python3",
      "display_name": "Python 3"
    }
  },
  "cells": [
    {
      "cell_type": "markdown",
      "metadata": {
        "id": "view-in-github",
        "colab_type": "text"
      },
      "source": [
        "<a href=\"https://colab.research.google.com/github/lucasalcantarap/Data-Sciencie/blob/master/Relatorio_automatizado.ipynb\" target=\"_parent\"><img src=\"https://colab.research.google.com/assets/colab-badge.svg\" alt=\"Open In Colab\"/></a>"
      ]
    },
    {
      "cell_type": "code",
      "metadata": {
        "id": "ssEiQ5UbTT8U",
        "colab_type": "code",
        "colab": {
          "base_uri": "https://localhost:8080/",
          "height": 153
        },
        "outputId": "e62109b6-236b-42fe-b869-0d4ddaa1ea04"
      },
      "source": [
        "!pip install pdf_reports -q"
      ],
      "execution_count": 7,
      "outputs": [
        {
          "output_type": "stream",
          "text": [
            "\u001b[K     |████████████████████████████████| 122kB 2.8MB/s \n",
            "\u001b[K     |████████████████████████████████| 368kB 7.9MB/s \n",
            "\u001b[K     |████████████████████████████████| 51kB 4.6MB/s \n",
            "\u001b[K     |████████████████████████████████| 3.0MB 10.3MB/s \n",
            "\u001b[K     |████████████████████████████████| 71kB 7.9MB/s \n",
            "\u001b[K     |████████████████████████████████| 71kB 8.7MB/s \n",
            "\u001b[?25h  Building wheel for pdf-reports (setup.py) ... \u001b[?25l\u001b[?25hdone\n",
            "  Building wheel for cairocffi (setup.py) ... \u001b[?25l\u001b[?25hdone\n"
          ],
          "name": "stdout"
        }
      ]
    },
    {
      "cell_type": "code",
      "metadata": {
        "id": "_6gnI-rXTsjD",
        "colab_type": "code",
        "colab": {}
      },
      "source": [
        "import pandas as pd\n",
        "from datetime import datetime\n",
        "from pdf_reports import pug_to_html, write_report"
      ],
      "execution_count": 8,
      "outputs": []
    },
    {
      "cell_type": "code",
      "metadata": {
        "id": "1j7daU59lu7o",
        "colab_type": "code",
        "colab": {}
      },
      "source": [
        "planilha = pd.read_excel(\"/content/controle_de_abacates.xlsx\")"
      ],
      "execution_count": 9,
      "outputs": []
    },
    {
      "cell_type": "markdown",
      "metadata": {
        "id": "MGLL4vxnmOK9",
        "colab_type": "text"
      },
      "source": [
        ""
      ]
    },
    {
      "cell_type": "code",
      "metadata": {
        "id": "ux8lZ2i2mI3E",
        "colab_type": "code",
        "colab": {
          "base_uri": "https://localhost:8080/",
          "height": 419
        },
        "outputId": "06e85545-d1a5-4cd4-d09e-6f73b6a7cc54"
      },
      "source": [
        "planilha"
      ],
      "execution_count": 10,
      "outputs": [
        {
          "output_type": "execute_result",
          "data": {
            "text/html": [
              "<div>\n",
              "<style scoped>\n",
              "    .dataframe tbody tr th:only-of-type {\n",
              "        vertical-align: middle;\n",
              "    }\n",
              "\n",
              "    .dataframe tbody tr th {\n",
              "        vertical-align: top;\n",
              "    }\n",
              "\n",
              "    .dataframe thead th {\n",
              "        text-align: right;\n",
              "    }\n",
              "</style>\n",
              "<table border=\"1\" class=\"dataframe\">\n",
              "  <thead>\n",
              "    <tr style=\"text-align: right;\">\n",
              "      <th></th>\n",
              "      <th>id</th>\n",
              "      <th>data</th>\n",
              "      <th>preco_medio</th>\n",
              "      <th>volume_total</th>\n",
              "      <th>tipo</th>\n",
              "      <th>ano</th>\n",
              "    </tr>\n",
              "  </thead>\n",
              "  <tbody>\n",
              "    <tr>\n",
              "      <th>0</th>\n",
              "      <td>1</td>\n",
              "      <td>2017-01-01</td>\n",
              "      <td>2.06</td>\n",
              "      <td>39260.55</td>\n",
              "      <td>Orgânico</td>\n",
              "      <td>2017</td>\n",
              "    </tr>\n",
              "    <tr>\n",
              "      <th>1</th>\n",
              "      <td>2</td>\n",
              "      <td>2017-01-08</td>\n",
              "      <td>2.15</td>\n",
              "      <td>42755.80</td>\n",
              "      <td>Orgânico</td>\n",
              "      <td>2017</td>\n",
              "    </tr>\n",
              "    <tr>\n",
              "      <th>2</th>\n",
              "      <td>3</td>\n",
              "      <td>2017-01-15</td>\n",
              "      <td>2.09</td>\n",
              "      <td>42233.25</td>\n",
              "      <td>Orgânico</td>\n",
              "      <td>2017</td>\n",
              "    </tr>\n",
              "    <tr>\n",
              "      <th>3</th>\n",
              "      <td>4</td>\n",
              "      <td>2017-01-22</td>\n",
              "      <td>2.05</td>\n",
              "      <td>49056.11</td>\n",
              "      <td>Orgânico</td>\n",
              "      <td>2017</td>\n",
              "    </tr>\n",
              "    <tr>\n",
              "      <th>4</th>\n",
              "      <td>5</td>\n",
              "      <td>2017-01-29</td>\n",
              "      <td>2.08</td>\n",
              "      <td>46602.16</td>\n",
              "      <td>Convencional</td>\n",
              "      <td>2017</td>\n",
              "    </tr>\n",
              "    <tr>\n",
              "      <th>...</th>\n",
              "      <td>...</td>\n",
              "      <td>...</td>\n",
              "      <td>...</td>\n",
              "      <td>...</td>\n",
              "      <td>...</td>\n",
              "      <td>...</td>\n",
              "    </tr>\n",
              "    <tr>\n",
              "      <th>60</th>\n",
              "      <td>61</td>\n",
              "      <td>2018-02-25</td>\n",
              "      <td>1.72</td>\n",
              "      <td>112128.84</td>\n",
              "      <td>Orgânico</td>\n",
              "      <td>2018</td>\n",
              "    </tr>\n",
              "    <tr>\n",
              "      <th>61</th>\n",
              "      <td>62</td>\n",
              "      <td>2018-03-04</td>\n",
              "      <td>1.69</td>\n",
              "      <td>133768.12</td>\n",
              "      <td>Orgânico</td>\n",
              "      <td>2018</td>\n",
              "    </tr>\n",
              "    <tr>\n",
              "      <th>62</th>\n",
              "      <td>63</td>\n",
              "      <td>2018-03-11</td>\n",
              "      <td>1.92</td>\n",
              "      <td>108114.03</td>\n",
              "      <td>Convencional</td>\n",
              "      <td>2018</td>\n",
              "    </tr>\n",
              "    <tr>\n",
              "      <th>63</th>\n",
              "      <td>64</td>\n",
              "      <td>2018-03-18</td>\n",
              "      <td>1.70</td>\n",
              "      <td>189434.04</td>\n",
              "      <td>Convencional</td>\n",
              "      <td>2018</td>\n",
              "    </tr>\n",
              "    <tr>\n",
              "      <th>64</th>\n",
              "      <td>65</td>\n",
              "      <td>2018-03-25</td>\n",
              "      <td>1.86</td>\n",
              "      <td>118503.55</td>\n",
              "      <td>Convencional</td>\n",
              "      <td>2018</td>\n",
              "    </tr>\n",
              "  </tbody>\n",
              "</table>\n",
              "<p>65 rows × 6 columns</p>\n",
              "</div>"
            ],
            "text/plain": [
              "    id       data  preco_medio  volume_total          tipo   ano\n",
              "0    1 2017-01-01         2.06      39260.55      Orgânico  2017\n",
              "1    2 2017-01-08         2.15      42755.80      Orgânico  2017\n",
              "2    3 2017-01-15         2.09      42233.25      Orgânico  2017\n",
              "3    4 2017-01-22         2.05      49056.11      Orgânico  2017\n",
              "4    5 2017-01-29         2.08      46602.16  Convencional  2017\n",
              "..  ..        ...          ...           ...           ...   ...\n",
              "60  61 2018-02-25         1.72     112128.84      Orgânico  2018\n",
              "61  62 2018-03-04         1.69     133768.12      Orgânico  2018\n",
              "62  63 2018-03-11         1.92     108114.03  Convencional  2018\n",
              "63  64 2018-03-18         1.70     189434.04  Convencional  2018\n",
              "64  65 2018-03-25         1.86     118503.55  Convencional  2018\n",
              "\n",
              "[65 rows x 6 columns]"
            ]
          },
          "metadata": {
            "tags": []
          },
          "execution_count": 10
        }
      ]
    },
    {
      "cell_type": "code",
      "metadata": {
        "id": "q4UX0aVPmMKv",
        "colab_type": "code",
        "colab": {}
      },
      "source": [
        "hoje = datetime.now().date()"
      ],
      "execution_count": 11,
      "outputs": []
    },
    {
      "cell_type": "code",
      "metadata": {
        "id": "DVFxcM0UmgEo",
        "colab_type": "code",
        "colab": {
          "base_uri": "https://localhost:8080/",
          "height": 291
        },
        "outputId": "6ad8c2c6-8729-4774-ad2e-87cd1792d42d"
      },
      "source": [
        "html = pug_to_html(\"/content/modelo_de_relatorio.pug\",\n",
        "                  planilha = planilha,\n",
        "                   hoje = hoje)"
      ],
      "execution_count": 12,
      "outputs": [
        {
          "output_type": "display_data",
          "data": {
            "image/png": "[encoded data removed]",
            "text/plain": [
              "<Figure size 432x288 with 1 Axes>"
            ]
          },
          "metadata": {
            "tags": [],
            "needs_background": "light"
          }
        }
      ]
    },
    {
      "cell_type": "code",
      "metadata": {
        "id": "7AlXKIXdnBUv",
        "colab_type": "code",
        "colab": {
          "base_uri": "https://localhost:8080/",
          "height": 171
        },
        "outputId": "19c35306-ee78-49b5-be43-6a034ba42a69"
      },
      "source": [
        "html"
      ],
      "execution_count": 13,
      "outputs": [
        {
          "output_type": "execute_result",
          "data": {
            "application/vnd.google.colaboratory.intrinsic+json": {
              "type": "string"
            },
            "text/plain": [
              "'<style lang=\"scss\">@page {\\n  margin: 1cm 0 2cm 0cm;\\n  @bottom-center {\\n    content: \"\";\\n  }\\n}\\n</style><img style=\"width:150px; display:block; margin:0 auto;\" src=\"https://raw.githubusercontent.com/carlosfab/escola-data-science/master/img/novo_logo_bg_claro.png\"/>\\n<div id=\"sidebar\">\\n  <p>Atualizado por Carlos Melo - 2020-08-20</p>\\n</div>\\n<h1>Relatório de Controle de Abacates</h1>\\n<div class=\"ui piled segment\">\\n  <p>Este relatório é parte de um exercício prático da Semana Python, evento online gratuito do\\n<a href=\"https://sigmoidal.ai\">Sigmoidal</a>, e tem a finalidade de divulgar e promover \\nPython e Data Science no Brasil.\\n  </p>\\n</div>\\n<p><strong><em>Gerado automaticamente e conferido pelo analista Carlos Melo.</em></strong></p>\\n<p><code>controle_abacates_2020-08-20.pdf</code></p>\\n<p>Para maiores informações sobre o autor da Semana Python, acesso o <a href=\"http://linkedin.com/in/carlosfab/\">perfil do LinkedIn</a> \\ne siga o <a href=\"http://youtube.com/c/carlosmelosigmoidal\">canal do Youtube</a> para acompanhar os últimos \\nartigos e tutoriais relacionados a Python e Data Science. Obrigado pela participação no evento.</p>\\n<div class=\"ui container\">\\n  <div class=\"ui icon message yellow block-center\"><i class=\"exclamation circle icon\"></i>\\n    <div class=\"content\">\\n      <div class=\"header\">Informações atualizadas do último dia.</div>\\n      <p>Os últimos lançamentos deste relatório dizem respeito ao dia \\n25/3/2018, \\nonde o preço médio do abacate foi R$ 1.86 e o volume total de vendas foi \\nde 118503.55 kg.\\n      </p>\\n    </div>\\n  </div>\\n</div>\\n<h2>Informações Atualizadas</h2>\\n<p>Até o presente momento, o relatório considera 65 entradas. \\nO povo está feliz tem futebol com a ferroviária da morada do sol. \\nAvinhado na camisa que emoção salve ferroviária do meu coração. \\nFerroviária, amo você em qualquer hora e tempo seu lema é vencer.:</p>\\n<center><img src=\"data:image/png+xml;base64,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\"/>\\n</center><h3>Últimos lançamentos</h3>\\n<p>O povo está feliz tem futebol com a ferroviária da morada do sol. \\nAvinhado na camisa que emoção salve ferroviária do meu coração. </p><table border=\"1\" class=\"dataframe ui compact celled striped table groups\">\\n  <thead>\\n    <tr style=\"text-align: right;\">\\n      <th>id</th>\\n      <th>data</th>\\n      <th>preco_medio</th>\\n      <th>volume_total</th>\\n      <th>tipo</th>\\n      <th>ano</th>\\n    </tr>\\n  </thead>\\n  <tbody>\\n    <tr>\\n      <td>59</td>\\n      <td>2018-02-11</td>\\n      <td>1.92</td>\\n      <td>79877.83</td>\\n      <td>Convencional</td>\\n      <td>2018</td>\\n    </tr>\\n    <tr>\\n      <td>60</td>\\n      <td>2018-02-18</td>\\n      <td>1.36</td>\\n      <td>495083.69</td>\\n      <td>Orgânico</td>\\n      <td>2018</td>\\n    </tr>\\n    <tr>\\n      <td>61</td>\\n      <td>2018-02-25</td>\\n      <td>1.72</td>\\n      <td>112128.84</td>\\n      <td>Orgânico</td>\\n      <td>2018</td>\\n    </tr>\\n    <tr>\\n      <td>62</td>\\n      <td>2018-03-04</td>\\n      <td>1.69</td>\\n      <td>133768.12</td>\\n      <td>Orgânico</td>\\n      <td>2018</td>\\n    </tr>\\n    <tr>\\n      <td>63</td>\\n      <td>2018-03-11</td>\\n      <td>1.92</td>\\n      <td>108114.03</td>\\n      <td>Convencional</td>\\n      <td>2018</td>\\n    </tr>\\n    <tr>\\n      <td>64</td>\\n      <td>2018-03-18</td>\\n      <td>1.70</td>\\n      <td>189434.04</td>\\n      <td>Convencional</td>\\n      <td>2018</td>\\n    </tr>\\n    <tr>\\n      <td>65</td>\\n      <td>2018-03-25</td>\\n      <td>1.86</td>\\n      <td>118503.55</td>\\n      <td>Convencional</td>\\n      <td>2018</td>\\n    </tr>\\n  </tbody>\\n</table>\\n\\n<p class=\"main-paragraph\">Foi um prazer ter você durante a Semana Python.</p>'"
            ]
          },
          "metadata": {
            "tags": []
          },
          "execution_count": 13
        }
      ]
    },
    {
      "cell_type": "code",
      "metadata": {
        "id": "zqlysCTFnMdT",
        "colab_type": "code",
        "colab": {}
      },
      "source": [
        "write_report(html, \"controle_abacates_relatorio.pdf\")"
      ],
      "execution_count": 14,
      "outputs": []
    }
  ]
}